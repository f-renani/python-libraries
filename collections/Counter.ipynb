{
 "cells": [
  {
   "cell_type": "markdown",
   "metadata": {},
   "source": [
    "## Counter\n",
    "A Counter is a subclass of dict used to count hashable objects. It stores elements as dictionary keys and their counts as values. This is equivalent to a bag "
   ]
  },
  {
   "cell_type": "markdown",
   "metadata": {},
   "source": [
    "# Initialization: \n",
    "\n",
    "The constructor of the counter can be called in any one of the following ways:\n",
    "\n",
    "- With a sequence of items\n",
    "- With a dictionary containing keys and counts\n",
    "- With keyword arguments mapping string names to counts\n",
    "\n",
    "Note: the order of keys is determined by the order in which elements are encountered when the Counter is created. This means that Counter maintains the insertion order of elements."
   ]
  },
  {
   "cell_type": "code",
   "execution_count": 28,
   "metadata": {},
   "outputs": [],
   "source": [
    "from collections import Counter"
   ]
  },
  {
   "cell_type": "code",
   "execution_count": 30,
   "metadata": {},
   "outputs": [
    {
     "name": "stdout",
     "output_type": "stream",
     "text": [
      "Counter()\n",
      "Counter({4: 3, 1: 2, 2: 1, 3: 1, 5: 1})\n",
      "Counter({'A': 2, 'B': 1})\n",
      "Counter({'B': 3, 'A': 2})\n"
     ]
    }
   ],
   "source": [
    "print(Counter()) #empty\n",
    "print(Counter([1,2,3,4,4,4,5,1]))\n",
    "print(Counter({\"A\":2, \"B\":1}))\n",
    "print(Counter(A=2, B=3))"
   ]
  },
  {
   "cell_type": "markdown",
   "metadata": {},
   "source": [
    "# Update"
   ]
  },
  {
   "cell_type": "code",
   "execution_count": 38,
   "metadata": {},
   "outputs": [
    {
     "name": "stdout",
     "output_type": "stream",
     "text": [
      "Counter({4: 4, 1: 2, 2: 1, 3: 1, 5: 1})\n",
      "Counter({4: 3, 1: 2, 2: 1, 3: 1, 5: 1})\n"
     ]
    }
   ],
   "source": [
    "count = Counter([1,2,3,4,4,4,5,1])\n",
    "count.update([4])\n",
    "print(count)\n",
    "count.subtract([4])\n",
    "print(count)"
   ]
  },
  {
   "cell_type": "markdown",
   "metadata": {},
   "source": [
    "Subtract 2 counters"
   ]
  },
  {
   "cell_type": "code",
   "execution_count": 41,
   "metadata": {},
   "outputs": [
    {
     "name": "stdout",
     "output_type": "stream",
     "text": [
      "Counter({1: 1, 2: 1, 4: 1, 5: 1})\n",
      "Counter({1: 1})\n"
     ]
    },
    {
     "data": {
      "text/plain": [
       "Counter({2: 1, 4: 1, 5: 1, 1: 0})"
      ]
     },
     "execution_count": 41,
     "metadata": {},
     "output_type": "execute_result"
    }
   ],
   "source": [
    "count1= Counter({1,1,1,2,2,2,4,4,5})\n",
    "count2= Counter({1,1,1})\n",
    "print(count1)\n",
    "print(count2)\n",
    "count1.subtract(count2)\n",
    "count1"
   ]
  },
  {
   "cell_type": "markdown",
   "metadata": {},
   "source": [
    "# Printing Counter Values"
   ]
  },
  {
   "cell_type": "code",
   "execution_count": 47,
   "metadata": {},
   "outputs": [
    {
     "name": "stdout",
     "output_type": "stream",
     "text": [
      "Counter({1: 3, 2: 3, 4: 2})\n",
      "dict_keys([1, 2, 4])\n",
      "dict_values([3, 3, 2])\n",
      "dict_items([(1, 3), (2, 3), (4, 2)])\n"
     ]
    }
   ],
   "source": [
    "count= Counter([1,1,1,2,2,2,4,4])\n",
    "print(count)\n",
    "print(count.keys())\n",
    "print(count.values())\n",
    "print(count.items())"
   ]
  },
  {
   "cell_type": "code",
   "execution_count": 48,
   "metadata": {},
   "outputs": [
    {
     "name": "stdout",
     "output_type": "stream",
     "text": [
      "[1, 1, 1, 2, 2, 2, 4, 4]\n"
     ]
    }
   ],
   "source": [
    "#elements():\n",
    "#Returns an iterator over elements repeating each as many times as its count. The order of elements is arbitrary.\n",
    "\n",
    "print(list(count.elements()))\n"
   ]
  },
  {
   "cell_type": "code",
   "execution_count": 52,
   "metadata": {},
   "outputs": [
    {
     "name": "stdout",
     "output_type": "stream",
     "text": [
      "[(1, 3)]\n",
      "[(1, 3), (2, 3)]\n",
      "[(1, 3), (2, 3), (4, 2)]\n"
     ]
    }
   ],
   "source": [
    "# most_common(n):\n",
    "# Returns a list of the n most common elements and their counts from the most common to the least. If n is omitted, it returns all elements.\n",
    "\n",
    "print(count.most_common(1))\n",
    "print(count.most_common(2))\n",
    "print(count.most_common(3))"
   ]
  },
  {
   "cell_type": "markdown",
   "metadata": {},
   "source": [
    "# get & set"
   ]
  },
  {
   "cell_type": "code",
   "execution_count": 54,
   "metadata": {},
   "outputs": [
    {
     "name": "stdout",
     "output_type": "stream",
     "text": [
      "3\n"
     ]
    }
   ],
   "source": [
    "count= Counter([1,1,1,2,2,2,4,4])\n",
    "\n",
    "print(count[1])"
   ]
  },
  {
   "cell_type": "code",
   "execution_count": 55,
   "metadata": {},
   "outputs": [
    {
     "name": "stdout",
     "output_type": "stream",
     "text": [
      "3\n",
      "10\n"
     ]
    }
   ],
   "source": [
    "count= Counter([1,1,1,2,2,2,4,4])\n",
    "print(count[1])\n",
    "count[1]=10\n",
    "print(count[1])"
   ]
  },
  {
   "cell_type": "code",
   "execution_count": null,
   "metadata": {},
   "outputs": [],
   "source": []
  }
 ],
 "metadata": {
  "kernelspec": {
   "display_name": "cntm-ds",
   "language": "python",
   "name": "python3"
  },
  "language_info": {
   "codemirror_mode": {
    "name": "ipython",
    "version": 3
   },
   "file_extension": ".py",
   "mimetype": "text/x-python",
   "name": "python",
   "nbconvert_exporter": "python",
   "pygments_lexer": "ipython3",
   "version": "3.11.9"
  }
 },
 "nbformat": 4,
 "nbformat_minor": 2
}
