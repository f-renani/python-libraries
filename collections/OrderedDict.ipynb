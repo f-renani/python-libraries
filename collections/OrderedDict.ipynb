{
 "cells": [
  {
   "cell_type": "code",
   "execution_count": null,
   "metadata": {},
   "outputs": [],
   "source": []
  },
  {
   "cell_type": "markdown",
   "metadata": {},
   "source": [
    "# OrderedDict\n",
    "\n",
    "OrderedDict is a specialized dictionary provided by Python’s collections module that maintains the order of insertion of the keys.  OrderedDict keeps track of the order in which keys were added or modified. \n",
    "\n",
    "Time Complexity:\n",
    "\n",
    "- Get item(Key): O(1)\n",
    "- Set item(key, value): O(1)\n",
    "- Delete item(key): O(n)\n",
    "- Iteration: O(n)"
   ]
  },
  {
   "cell_type": "code",
   "execution_count": 31,
   "metadata": {},
   "outputs": [
    {
     "name": "stdout",
     "output_type": "stream",
     "text": [
      "OrderedDict([('a', 1), ('b', 2), ('c', 3)])\n",
      "OrderedDict([('a', 1), ('b', 2), ('c', 3), ('v', 4)])\n",
      "OrderedDict([('a', 1), ('b', 3), ('c', 3), ('v', 4)])\n"
     ]
    }
   ],
   "source": [
    "from collections import OrderedDict\n",
    "\n",
    "my_dict = OrderedDict([('a', 1), ('b', 2), ('c', 3)])\n",
    "print(my_dict)\n",
    "my_dict[\"v\"] = 4\n",
    "print(my_dict)\n",
    "my_dict[\"b\"] = 3\n",
    "print(my_dict)\n"
   ]
  },
  {
   "cell_type": "markdown",
   "metadata": {},
   "source": [
    "### move_to_end \n",
    "\n",
    "move_to_end(key, last=True)\n",
    "\n",
    "Moves the specified key to the end (or the beginning) of the OrderedDict.\n",
    "- Parameters:\n",
    "- key: The key to move.\n",
    "- last=True: Moves the key to the end by default.\n",
    "- last=False, the key is moved to the beginning."
   ]
  },
  {
   "cell_type": "code",
   "execution_count": 33,
   "metadata": {},
   "outputs": [
    {
     "name": "stdout",
     "output_type": "stream",
     "text": [
      "OrderedDict([('b', 3), ('a', 1), ('c', 3), ('v', 4)])\n",
      "OrderedDict([('b', 3), ('a', 1), ('c', 3), ('v', 4)])\n",
      "OrderedDict([('a', 1), ('c', 3), ('v', 4), ('b', 3)])\n"
     ]
    }
   ],
   "source": [
    "print(my_dict)\n",
    "\n",
    "my_dict.move_to_end('b', last=False)\n",
    "print(my_dict)\n",
    "my_dict.move_to_end('b', last=True)\n",
    "print(my_dict)\n"
   ]
  },
  {
   "cell_type": "code",
   "execution_count": 34,
   "metadata": {},
   "outputs": [
    {
     "name": "stdout",
     "output_type": "stream",
     "text": [
      "OrderedDict([('a', 1), ('c', 3), ('v', 4), ('b', 3)])\n",
      "('b', 3) OrderedDict([('a', 1), ('c', 3), ('v', 4)])\n"
     ]
    }
   ],
   "source": [
    "print(my_dict) \n",
    "last_item = my_dict.popitem(last=True)\n",
    "print(last_item, my_dict)  "
   ]
  },
  {
   "cell_type": "markdown",
   "metadata": {},
   "source": [
    "## Ordinary dictionary\n",
    "\n",
    "- ## dict.popitem()\n",
    "\n",
    "- **popitem()**: Removes the last inserted item: popitem() removes the most recent key-value pair that was inserted into the dictionary.\n",
    "\n",
    "- ### dict.pop(key[, default])\n",
    "- **pop()** : Removes a specific key: This method removes the item with the specified key and returns its value."
   ]
  },
  {
   "cell_type": "code",
   "execution_count": 25,
   "metadata": {},
   "outputs": [
    {
     "name": "stdout",
     "output_type": "stream",
     "text": [
      "{1: 'a', 2: 'b', 3: 'c'}\n",
      "(3, 'c') {1: 'a', 2: 'b'}\n",
      "a {2: 'b'}\n",
      "Not found {2: 'b'}\n"
     ]
    }
   ],
   "source": [
    "a = {1: 'a', 2: 'b', 3: 'c'}\n",
    "print(a)\n",
    "\n",
    "poped = a.popitem()\n",
    "print(poped, a)\n",
    "\n",
    "poped = a.pop(1)\n",
    "print(poped, a)\n",
    "\n",
    "poped =  a.pop(1, \"Not found\")\n",
    "print(poped, a)"
   ]
  },
  {
   "cell_type": "markdown",
   "metadata": {},
   "source": [
    "# 146. LRU Cache\n",
    " \n",
    "Design a data structure that follows the constraints of a Least Recently Used (LRU) cache.\n",
    "\n",
    "Implement the LRUCache class:\n",
    "\n",
    "LRUCache(int capacity) Initialize the LRU cache with positive size capacity.\n",
    "int get(int key) Return the value of the key if the key exists, otherwise return -1.\n",
    "void put(int key, int value) Update the value of the key if the key exists. Otherwise, add the key-value pair to the cache. If the number of keys exceeds the capacity from this operation, evict the least recently used key.\n",
    "The functions get and put must each run in O(1) average time complexity.\n",
    "\n",
    " \n",
    "\n",
    "Example 1:\n",
    "\n",
    "Input\n",
    "[\"LRUCache\", \"put\", \"put\", \"get\", \"put\", \"get\", \"put\", \"get\", \"get\", \"get\"]\n",
    "[[2], [1, 1], [2, 2], [1], [3, 3], [2], [4, 4], [1], [3], [4]]\n",
    "Output\n",
    "[null, null, null, 1, null, -1, null, -1, 3, 4]\n",
    "\n",
    "Explanation\n",
    "LRUCache lRUCache = new LRUCache(2);\n",
    "lRUCache.put(1, 1); // cache is {1=1}\n",
    "lRUCache.put(2, 2); // cache is {1=1, 2=2}\n",
    "lRUCache.get(1);    // return 1\n",
    "lRUCache.put(3, 3); // LRU key was 2, evicts key 2, cache is {1=1, 3=3}\n",
    "lRUCache.get(2);    // returns -1 (not found)\n",
    "lRUCache.put(4, 4); // LRU key was 1, evicts key 1, cache is {4=4, 3=3}\n",
    "lRUCache.get(1);    // return -1 (not found)\n",
    "lRUCache.get(3);    // return 3\n",
    "lRUCache.get(4);    // return 4"
   ]
  },
  {
   "cell_type": "code",
   "execution_count": 36,
   "metadata": {},
   "outputs": [],
   "source": [
    "import collections\n",
    "\n",
    "class LRUCache(object):\n",
    "\n",
    "    def __init__(self, capacity):\n",
    "        \"\"\"\n",
    "        :type capacity: int\n",
    "        \"\"\"\n",
    "        self.capacity = capacity\n",
    "        self.dic = collections.OrderedDict()\n",
    "        \n",
    "\n",
    "    def get(self, key):\n",
    "        \"\"\"\n",
    "        :type key: int\n",
    "        :rtype: int\n",
    "        \"\"\"\n",
    "        if key not in self.dic:\n",
    "            return -1\n",
    "\n",
    "        self.dic.move_to_end(key)\n",
    "        return self.dic[key]\n",
    "        \n",
    "\n",
    "    def put(self, key, value):\n",
    "        \"\"\"\n",
    "        :type key: int\n",
    "        :type value: int\n",
    "        :rtype: None\n",
    "        \"\"\"\n",
    "        if key in self.dic:\n",
    "            self.dic.move_to_end(key)\n",
    "\n",
    "        self.dic[key] = value\n",
    "        if len(self.dic) > self.capacity:\n",
    "            self.dic.popitem(False)\n",
    "\n",
    "\n",
    "# Your LRUCache object will be instantiated and called as such:\n",
    "# obj = LRUCache(capacity)\n",
    "# param_1 = obj.get(key)\n",
    "# obj.put(key,value)"
   ]
  },
  {
   "cell_type": "code",
   "execution_count": 18,
   "metadata": {},
   "outputs": [
    {
     "data": {
      "text/plain": [
       "'Not found'"
      ]
     },
     "execution_count": 18,
     "metadata": {},
     "output_type": "execute_result"
    }
   ],
   "source": []
  },
  {
   "cell_type": "code",
   "execution_count": null,
   "metadata": {},
   "outputs": [],
   "source": []
  }
 ],
 "metadata": {
  "kernelspec": {
   "display_name": "cntm-ds",
   "language": "python",
   "name": "python3"
  },
  "language_info": {
   "codemirror_mode": {
    "name": "ipython",
    "version": 3
   },
   "file_extension": ".py",
   "mimetype": "text/x-python",
   "name": "python",
   "nbconvert_exporter": "python",
   "pygments_lexer": "ipython3",
   "version": "3.11.9"
  }
 },
 "nbformat": 4,
 "nbformat_minor": 2
}
