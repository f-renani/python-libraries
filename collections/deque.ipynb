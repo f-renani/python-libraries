{
 "cells": [
  {
   "cell_type": "markdown",
   "metadata": {},
   "source": [
    "# deque\n",
    "deque (pronounced \"deck\") stands for double-ended queue. It's a generalization of stacks and queues, allowing fast appends and pops from both ends.\n",
    "\n",
    "Key Methods of `deque`:\n",
    "\n",
    "- **`append(x)`**: Add `x` to the right end of the deque.\n",
    "- **`appendleft(x)`**: Add `x` to the left end of the deque.\n",
    "- **`pop()`**: Remove and return an element from the right end.\n",
    "- **`popleft()`**: Remove and return an element from the left end.\n",
    "- **`extend(iterable)`**: Extend the deque by adding elements from the iterable to the right end.\n",
    "- **`extendleft(iterable)`**: Extend the deque by adding elements from the iterable to the left end (in reverse order).\n",
    "- **`rotate(n)`**: Rotate the deque by `n` steps to the right. If `n` is negative, rotate to the left.\n",
    "\n",
    "\n",
    "\n",
    "### Accessing Items in a deque\n",
    "- index(ele, beg, end):- This function returns the first index of the value mentioned in arguments, starting - searching from beg till end index.\n",
    "- insert(i, a) :- This function inserts the value mentioned in arguments(a) at index(i) specified in arguments.\n",
    "- remove():- This function removes the first occurrence of the value mentioned in arguments.\n",
    "- count():- This function counts the number of occurrences of value mentioned in arguments.\n"
   ]
  },
  {
   "cell_type": "markdown",
   "metadata": {},
   "source": [
    "from collections import "
   ]
  },
  {
   "cell_type": "code",
   "execution_count": 32,
   "metadata": {},
   "outputs": [],
   "source": [
    "from collections import deque"
   ]
  },
  {
   "cell_type": "code",
   "execution_count": 46,
   "metadata": {},
   "outputs": [
    {
     "name": "stdout",
     "output_type": "stream",
     "text": [
      "deque([1, 2, 3])\n"
     ]
    }
   ],
   "source": [
    "q = deque([1,2,3])\n",
    "print(q)"
   ]
  },
  {
   "cell_type": "code",
   "execution_count": 47,
   "metadata": {},
   "outputs": [
    {
     "name": "stdout",
     "output_type": "stream",
     "text": [
      "deque([1, 2, 3, 4])\n"
     ]
    }
   ],
   "source": [
    "q.append(4)\n",
    "print(q)"
   ]
  },
  {
   "cell_type": "code",
   "execution_count": 48,
   "metadata": {},
   "outputs": [
    {
     "name": "stdout",
     "output_type": "stream",
     "text": [
      "deque([0, 1, 2, 3, 4])\n"
     ]
    }
   ],
   "source": [
    "q.appendleft(0)\n",
    "print(q)"
   ]
  },
  {
   "cell_type": "code",
   "execution_count": 49,
   "metadata": {},
   "outputs": [
    {
     "name": "stdout",
     "output_type": "stream",
     "text": [
      "deque([0, 1, 2, 3, 4, 5, 6])\n"
     ]
    }
   ],
   "source": [
    "q.extend([5,6])\n",
    "print(q)"
   ]
  },
  {
   "cell_type": "code",
   "execution_count": 50,
   "metadata": {},
   "outputs": [
    {
     "name": "stdout",
     "output_type": "stream",
     "text": [
      "deque([-1, -2, 0, 1, 2, 3, 4, 5, 6])\n"
     ]
    }
   ],
   "source": [
    "q.extendleft([-2,-1])\n",
    "print(q)"
   ]
  },
  {
   "cell_type": "code",
   "execution_count": 51,
   "metadata": {},
   "outputs": [
    {
     "name": "stdout",
     "output_type": "stream",
     "text": [
      "6\n",
      "deque([-1, -2, 0, 1, 2, 3, 4, 5])\n"
     ]
    }
   ],
   "source": [
    "print(q.pop()) # return the most right elemnet and remove it from the q\n",
    "print(q)"
   ]
  },
  {
   "cell_type": "code",
   "execution_count": 52,
   "metadata": {},
   "outputs": [
    {
     "name": "stdout",
     "output_type": "stream",
     "text": [
      "-1\n",
      "deque([-2, 0, 1, 2, 3, 4, 5])\n"
     ]
    }
   ],
   "source": [
    "print(q.popleft()) \n",
    "print(q)"
   ]
  },
  {
   "cell_type": "code",
   "execution_count": 53,
   "metadata": {},
   "outputs": [
    {
     "name": "stdout",
     "output_type": "stream",
     "text": [
      "deque([5, -2, 0, 1, 2, 3, 4])\n"
     ]
    }
   ],
   "source": [
    "q.rotate(1)\n",
    "print(q)"
   ]
  },
  {
   "cell_type": "code",
   "execution_count": 54,
   "metadata": {},
   "outputs": [
    {
     "name": "stdout",
     "output_type": "stream",
     "text": [
      "deque([-2, 0, 1, 2, 3, 4, 5])\n"
     ]
    }
   ],
   "source": [
    "q.rotate(-1)\n",
    "print(q)"
   ]
  },
  {
   "cell_type": "markdown",
   "metadata": {},
   "source": [
    "**remove(value)** : Remove the first occurrence of a specified value from the deque."
   ]
  },
  {
   "cell_type": "code",
   "execution_count": 55,
   "metadata": {},
   "outputs": [
    {
     "name": "stdout",
     "output_type": "stream",
     "text": [
      "deque([-2, 0, 1, 2, 3, 4, 5])\n",
      "deque([-2, 0, 1, 2, 3, 4, 5, 1, 1])\n",
      "deque([-2, 0, 2, 3, 4, 5, 1, 1])\n"
     ]
    }
   ],
   "source": [
    "print(q)\n",
    "q.append(1)\n",
    "q.append(1)\n",
    "print(q)\n",
    "q.remove(1)\n",
    "print(q)"
   ]
  },
  {
   "cell_type": "markdown",
   "metadata": {},
   "source": [
    "To remove value by index:"
   ]
  },
  {
   "cell_type": "code",
   "execution_count": 56,
   "metadata": {},
   "outputs": [
    {
     "name": "stdout",
     "output_type": "stream",
     "text": [
      "deque([-2, 0, 2, 3, 4, 5, 1, 1])\n",
      "deque([-2, 2, 3, 4, 5, 1, 1])\n"
     ]
    }
   ],
   "source": [
    "print(q)\n",
    "index = 1\n",
    "value = q[index]  # Get value at index\n",
    "q.remove(value)    # Remove by value (which is less efficient)\n",
    "print(q)  # Output: deque([1, 3, 4])\n"
   ]
  },
  {
   "cell_type": "markdown",
   "metadata": {},
   "source": [
    "# List"
   ]
  },
  {
   "cell_type": "code",
   "execution_count": 61,
   "metadata": {},
   "outputs": [
    {
     "name": "stdout",
     "output_type": "stream",
     "text": [
      "[1, 2, 3, 4, 6, 7]\n"
     ]
    }
   ],
   "source": [
    "ls = [1,2,3,4,6, 7]\n",
    "print(ls)"
   ]
  },
  {
   "cell_type": "code",
   "execution_count": 62,
   "metadata": {},
   "outputs": [
    {
     "name": "stdout",
     "output_type": "stream",
     "text": [
      "[1, 2, 3, 4, 6]\n"
     ]
    }
   ],
   "source": [
    "ls.pop() # pop from right\n",
    "print(ls)"
   ]
  },
  {
   "cell_type": "code",
   "execution_count": 63,
   "metadata": {},
   "outputs": [
    {
     "name": "stdout",
     "output_type": "stream",
     "text": [
      "[1, 3, 4, 6]\n"
     ]
    }
   ],
   "source": [
    "ls.pop(1)  # pop by index\n",
    "print(ls)"
   ]
  },
  {
   "cell_type": "code",
   "execution_count": 64,
   "metadata": {},
   "outputs": [
    {
     "name": "stdout",
     "output_type": "stream",
     "text": [
      "[1, 4, 6]\n"
     ]
    }
   ],
   "source": [
    "ls.remove(3) # remove by value\n",
    "print(ls)"
   ]
  },
  {
   "cell_type": "code",
   "execution_count": 65,
   "metadata": {},
   "outputs": [
    {
     "ename": "ValueError",
     "evalue": "list.remove(x): x not in list",
     "output_type": "error",
     "traceback": [
      "\u001b[0;31m---------------------------------------------------------------------------\u001b[0m",
      "\u001b[0;31mValueError\u001b[0m                                Traceback (most recent call last)",
      "Cell \u001b[0;32mIn[65], line 1\u001b[0m\n\u001b[0;32m----> 1\u001b[0m \u001b[43mls\u001b[49m\u001b[38;5;241;43m.\u001b[39;49m\u001b[43mremove\u001b[49m\u001b[43m(\u001b[49m\u001b[38;5;241;43m3\u001b[39;49m\u001b[43m)\u001b[49m\n\u001b[1;32m      2\u001b[0m \u001b[38;5;28mprint\u001b[39m(ls)\n",
      "\u001b[0;31mValueError\u001b[0m: list.remove(x): x not in list"
     ]
    }
   ],
   "source": [
    "# removing element that does not exist\n",
    "ls.remove(3)\n",
    "print(ls)"
   ]
  },
  {
   "cell_type": "markdown",
   "metadata": {},
   "source": [
    "# LeeCode\n",
    "\n",
    "1756. Design Most Recently Used Queue\n",
    "\n",
    "Design a queue-like data structure that moves the most recently used element to the end of the queue.\n",
    "\n",
    "Implement the MRUQueue class:\n",
    "\n",
    "MRUQueue(int n) constructs the MRUQueue with n elements: [1,2,3,...,n].\n",
    "int fetch(int k) moves the kth element (1-indexed) to the end of the queue and returns it.\n",
    " \n",
    "\n",
    "Example 1:\n",
    "\n",
    "Input:\n",
    "[\"MRUQueue\", \"fetch\", \"fetch\", \"fetch\", \"fetch\"]\n",
    "[[8], [3], [5], [2], [8]]\n",
    "Output:\n",
    "[null, 3, 6, 2, 2]\n",
    "\n",
    "Explanation:\n",
    "MRUQueue mRUQueue = new MRUQueue(8); // Initializes the queue to [1,2,3,4,5,6,7,8].\n",
    "mRUQueue.fetch(3); // Moves the 3rd element (3) to the end of the queue to become [1,2,4,5,6,7,8,3] and returns it.\n",
    "mRUQueue.fetch(5); // Moves the 5th element (6) to the end of the queue to become [1,2,4,5,7,8,3,6] and returns it.\n",
    "mRUQueue.fetch(2); // Moves the 2nd element (2) to the end of the queue to become [1,4,5,7,8,3,6,2] and returns it.\n",
    "mRUQueue.fetch(8); // The 8th element (2) is already at the end of the queue so just return it."
   ]
  },
  {
   "cell_type": "code",
   "execution_count": 72,
   "metadata": {},
   "outputs": [
    {
     "name": "stdout",
     "output_type": "stream",
     "text": [
      "3\n",
      "6\n",
      "2\n",
      "2\n"
     ]
    }
   ],
   "source": [
    "class MRUQueue(object):\n",
    "\n",
    "    def __init__(self, n):\n",
    "        \"\"\"\n",
    "        :type n: int\n",
    "        \"\"\"\n",
    "        self.q= [x for x in range(1,n+1)]\n",
    "        \n",
    "\n",
    "    def fetch(self, k):\n",
    "        \"\"\"\n",
    "        :type k: int\n",
    "        :rtype: int\n",
    "        \"\"\"\n",
    "        index = k - 1\n",
    "        value = self.q[index]\n",
    "        self.q.remove(value)\n",
    "        self.q.append(value)\n",
    "\n",
    "        return value\n",
    "\n",
    "\n",
    "\n",
    "# Create an MRUQueue with 5 elements\n",
    "mru_queue = MRUQueue(8)\n",
    "\n",
    "# Fetch the 2nd element\n",
    "print(mru_queue.fetch(3))  # Output: 2\n",
    "\n",
    "# Fetch the 1st element\n",
    "print(mru_queue.fetch(5))  # Output: 1\n",
    "\n",
    "# Fetch the 3rd element\n",
    "print(mru_queue.fetch(2))  # Output: 3\n",
    "\n",
    "# Fetch the 3rd element\n",
    "print(mru_queue.fetch(8))  # Output: 3\n",
    "\n",
    "# Current state of the queue: [4, 5, 2, 1, 3]\n",
    "        \n",
    "# # Your MRUQueue object will be instantiated and called as such:\n",
    "# # obj = MRUQueue(n)\n",
    "# # param_1 = obj.fetch(k)"
   ]
  },
  {
   "cell_type": "markdown",
   "metadata": {},
   "source": []
  }
 ],
 "metadata": {
  "kernelspec": {
   "display_name": "cntm-ds",
   "language": "python",
   "name": "python3"
  },
  "language_info": {
   "codemirror_mode": {
    "name": "ipython",
    "version": 3
   },
   "file_extension": ".py",
   "mimetype": "text/x-python",
   "name": "python",
   "nbconvert_exporter": "python",
   "pygments_lexer": "ipython3",
   "version": "3.11.9"
  }
 },
 "nbformat": 4,
 "nbformat_minor": 2
}
