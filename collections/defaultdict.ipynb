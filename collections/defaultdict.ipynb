{
 "cells": [
  {
   "cell_type": "markdown",
   "metadata": {},
   "source": [
    "# defaultdict"
   ]
  },
  {
   "cell_type": "markdown",
   "metadata": {},
   "source": [
    "When you create a defaultdict, you specify a function to provide default values for missing keys. This function can be:\n",
    "\n",
    "- int: Default value will be 0.\n",
    "- list: Default value will be an empty list [].\n",
    "- str: Default value will be an empty string ''.\n",
    "- defined function (lambda : \"your default value\")"
   ]
  },
  {
   "cell_type": "code",
   "execution_count": 2,
   "metadata": {},
   "outputs": [],
   "source": [
    "from collections import defaultdict"
   ]
  },
  {
   "cell_type": "code",
   "execution_count": 10,
   "metadata": {},
   "outputs": [
    {
     "name": "stdout",
     "output_type": "stream",
     "text": [
      "3 0\n"
     ]
    }
   ],
   "source": [
    "my_dict = defaultdict(int)  # the default value would be 0\n",
    "my_dict[\"a\"]=3  # assign value\n",
    "print(my_dict[\"a\"], my_dict[\"b\"])"
   ]
  },
  {
   "cell_type": "code",
   "execution_count": 13,
   "metadata": {},
   "outputs": [
    {
     "name": "stdout",
     "output_type": "stream",
     "text": [
      "defaultdict(<class 'list'>, {'fruits': ['apple', 'orange'], 'vegetables': ['carrot']})\n"
     ]
    }
   ],
   "source": [
    "# Create a defaultdict with a default value of an empty list\n",
    "my_dict = defaultdict(list)\n",
    "\n",
    "# Add elements to the defaultdict\n",
    "my_dict['fruits'].append('apple')\n",
    "my_dict['fruits'].append('orange')\n",
    "my_dict['vegetables'].append('carrot')\n",
    "\n",
    "# Print the defaultdict\n",
    "print(my_dict)"
   ]
  },
  {
   "cell_type": "code",
   "execution_count": 12,
   "metadata": {},
   "outputs": [
    {
     "name": "stdout",
     "output_type": "stream",
     "text": [
      "1\n",
      "2\n",
      "Not Present\n"
     ]
    }
   ],
   "source": [
    "my_dict = defaultdict(lambda: \"Not Present\")\n",
    "my_dict[\"a\"] = 1\n",
    "my_dict[\"b\"] = 2\n",
    "\n",
    "print(my_dict[\"a\"])\n",
    "print(my_dict[\"b\"])\n",
    "print(my_dict[\"c\"])"
   ]
  },
  {
   "cell_type": "code",
   "execution_count": null,
   "metadata": {},
   "outputs": [],
   "source": []
  }
 ],
 "metadata": {
  "kernelspec": {
   "display_name": "cntm-ds",
   "language": "python",
   "name": "python3"
  },
  "language_info": {
   "codemirror_mode": {
    "name": "ipython",
    "version": 3
   },
   "file_extension": ".py",
   "mimetype": "text/x-python",
   "name": "python",
   "nbconvert_exporter": "python",
   "pygments_lexer": "ipython3",
   "version": "3.11.9"
  }
 },
 "nbformat": 4,
 "nbformat_minor": 2
}
