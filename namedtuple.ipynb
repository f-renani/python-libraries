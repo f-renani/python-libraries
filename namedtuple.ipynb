{
 "cells": [
  {
   "cell_type": "markdown",
   "metadata": {},
   "source": [
    "Let’s review the basics of tuples in Python before diving into namedtupleTuples.\n",
    "\n",
    "A tuple is an immutable, ordered collection of elements. Unlike lists, once a tuple is created, you cannot modify its contents (i.e., you can't add, remove, or change elements).\n",
    "\n",
    "Key Features of Tuples:\n",
    "- Ordered: Tuples maintain the order of elements.\n",
    "- Immutable: Once a tuple is created, it cannot be changed.\n",
    "- Indexed: You can access elements in a tuple using their index.\n",
    "- Heterogeneous: A tuple can store elements of different data types (e.g., integers, strings, etc.)."
   ]
  },
  {
   "cell_type": "code",
   "execution_count": 9,
   "metadata": {},
   "outputs": [
    {
     "name": "stdout",
     "output_type": "stream",
     "text": [
      "('a', 1, [1, 2])\n",
      "('a', 1, [1, 2])\n",
      "a\n",
      "('a', 1)\n",
      "a 1 [1, 2]\n"
     ]
    }
   ],
   "source": [
    "# create\n",
    "\n",
    "# by parentheses\n",
    "my_tuple= (\"a\", 1, [1,2])\n",
    "print(my_tuple)\n",
    "\n",
    "# without parentheses, just by separating values with commas\n",
    "my_tuple= \"a\", 1, [1,2]\n",
    "print(my_tuple)\n",
    "\n",
    "# access\n",
    "print(my_tuple[0])\n",
    "# Slicing\n",
    "print(my_tuple[0:2])\n",
    "\n",
    "# unpack\n",
    "a, b, c = my_tuple\n",
    "print(a, b, c)"
   ]
  },
  {
   "cell_type": "markdown",
   "metadata": {},
   "source": [
    "# namedtuple\n",
    "namedtuple is a factory function that returns a subclass of a tuple with named fields. This allows for more readable and self-documenting code, as you can access elements of the tuple by name instead of by index.\n",
    "\n",
    "It provides a way to create simple, lightweight data structures similar to a `class`, but without the overhead of defining a full class. Like dictionaries, they contain keys that are hashed to a particular value. On the contrary, it supports both access from key-value and iteration, the functionality that dictionaries lack."
   ]
  },
  {
   "cell_type": "code",
   "execution_count": 20,
   "metadata": {},
   "outputs": [
    {
     "name": "stdout",
     "output_type": "stream",
     "text": [
      "Fatemeh\n",
      "Fatemeh\n"
     ]
    }
   ],
   "source": [
    "# Python code to demonstrate namedtuple()\n",
    "from collections import namedtuple\n",
    "\n",
    "# Declaring namedtuple()\n",
    "Student = namedtuple('Student', ['name', 'age', 'DOB'])\n",
    "\n",
    "# Adding values\n",
    "S = Student('Fatemeh', '19', '19890101')\n",
    "\n",
    "print(S.name) # Access using index\n",
    "print(S[0]) # Access using index\n"
   ]
  },
  {
   "cell_type": "code",
   "execution_count": null,
   "metadata": {},
   "outputs": [],
   "source": []
  }
 ],
 "metadata": {
  "kernelspec": {
   "display_name": "cntm-ds",
   "language": "python",
   "name": "python3"
  },
  "language_info": {
   "codemirror_mode": {
    "name": "ipython",
    "version": 3
   },
   "file_extension": ".py",
   "mimetype": "text/x-python",
   "name": "python",
   "nbconvert_exporter": "python",
   "pygments_lexer": "ipython3",
   "version": "3.11.9"
  }
 },
 "nbformat": 4,
 "nbformat_minor": 2
}
