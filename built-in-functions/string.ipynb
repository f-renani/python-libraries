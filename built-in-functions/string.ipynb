{
 "cells": [
  {
   "cell_type": "code",
   "execution_count": null,
   "metadata": {},
   "outputs": [],
   "source": []
  },
  {
   "cell_type": "markdown",
   "metadata": {},
   "source": [
    "### Python String Methods\n",
    "\n",
    "1. **`isdigit()`** - Checks if all characters in a string are digits.\n",
    "2. **`lower()`** - Converts all uppercase letters in a string to lowercase.\n",
    "3. **`upper()`** - Converts all lowercase letters in a string to uppercase.\n",
    "4. **`strip()`** - Removes leading and trailing spaces (or specified characters).\n",
    "5. **`startswith()`** - Checks if a string starts with a specified substring.\n",
    "6. **`endswith()`** - Checks if a string ends with a specified substring.\n",
    "7. **`replace()`** - Replaces all occurrences of a substring with another substring.\n",
    "8. **`split()`** - Splits a string into a list based on a specified delimiter.\n",
    "9. **`join()`** - Joins elements of an iterable into a single string with a specified separator.\n",
    "10. **`find()`** - Searches for the first occurrence of a substring and returns its index.\n"
   ]
  },
  {
   "cell_type": "code",
   "execution_count": 1,
   "metadata": {},
   "outputs": [
    {
     "name": "stdout",
     "output_type": "stream",
     "text": [
      "apple, banana, cherry\n"
     ]
    }
   ],
   "source": [
    "fruits = ['apple', 'banana', 'cherry']\n",
    "print(\", \".join(fruits))  # \"apple, banana, cherry\""
   ]
  },
  {
   "cell_type": "code",
   "execution_count": null,
   "metadata": {},
   "outputs": [],
   "source": []
  }
 ],
 "metadata": {
  "kernelspec": {
   "display_name": "cntm-ds",
   "language": "python",
   "name": "python3"
  },
  "language_info": {
   "codemirror_mode": {
    "name": "ipython",
    "version": 3
   },
   "file_extension": ".py",
   "mimetype": "text/x-python",
   "name": "python",
   "nbconvert_exporter": "python",
   "pygments_lexer": "ipython3",
   "version": "3.11.9"
  }
 },
 "nbformat": 4,
 "nbformat_minor": 2
}
